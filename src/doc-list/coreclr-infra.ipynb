{
 "cells": [
  {
   "cell_type": "code",
   "execution_count": 2,
   "metadata": {},
   "outputs": [
    {
     "output_type": "error",
     "ename": "NameError",
     "evalue": "name 'client' is not defined",
     "traceback": [
      "\u001b[0;31m---------------------------------------------------------------------------\u001b[0m",
      "\u001b[0;31mNameError\u001b[0m                                 Traceback (most recent call last)",
      "\u001b[0;32m<ipython-input-2-ddd3446f20a2>\u001b[0m in \u001b[0;36m<module>\u001b[0;34m\u001b[0m\n\u001b[1;32m     30\u001b[0m \u001b[0;34m\u001b[0m\u001b[0m\n\u001b[1;32m     31\u001b[0m \u001b[0;31m# Get only jobs from 8 may to 11 may\u001b[0m\u001b[0;34m\u001b[0m\u001b[0;34m\u001b[0m\u001b[0;34m\u001b[0m\u001b[0m\n\u001b[0;32m---> 32\u001b[0;31m jobs = list(client.QueryItems(jobs_link,\n\u001b[0m\u001b[1;32m     33\u001b[0m                                     {\n\u001b[1;32m     34\u001b[0m                                         \u001b[0;34m'query'\u001b[0m\u001b[0;34m:\u001b[0m \u001b[0;34m'SELECT * FROM root job WHERE job.DateStart>@min_start'\u001b[0m\u001b[0;34m,\u001b[0m\u001b[0;34m\u001b[0m\u001b[0;34m\u001b[0m\u001b[0m\n",
      "\u001b[0;31mNameError\u001b[0m: name 'client' is not defined"
     ]
    }
   ],
   "source": [
    "import azure.cosmos.documents as documents\n",
    "import azure.cosmos.cosmos_client as cosmos_client\n",
    "import azure.cosmos.errors as errors\n",
    "import datetime\n",
    "import os\n",
    "import math\n",
    "\n",
    "from collections import defaultdict\n",
    "\n",
    "################################################################################\n",
    "# Helper class\n",
    "################################################################################\n",
    "\n",
    "class CosmosDBGuard(cosmos_client.CosmosClient):\n",
    "    def __init__(self, obj):\n",
    "        self.obj = obj\n",
    "\n",
    "    def __enter__(self):\n",
    "        return self.obj\n",
    "\n",
    "    def __exit__(self, exception_type, exception_val, trace):\n",
    "        # extra cleanup in here\n",
    "        self.obj = None\n",
    "\n",
    "jobs = None\n",
    "pipeline_runs = None\n",
    "helix_submissions = None\n",
    "helix_workitems = None\n",
    "\n",
    "with CosmosDBGuard(cosmos_client.CosmosClient(\"https://coreclr-infra.documents.azure.com:443/\", {'masterKey': os.environ[\"coreclrInfraKey\"]} )) as client:\n",
    "        try:\n",
    "            helix_workitems_link = \"dbs/coreclr-infra/colls/helix-workitems\"\n",
    "            helix_submission_link = \"dbs/coreclr-infra/colls/helix-submissions\"\n",
    "\n",
    "            pipeline_link = \"dbs/coreclr-infra/colls/runtime-pipelines\"\n",
    "            jobs_link = \"dbs/coreclr-infra/colls/runtime-jobs\"\n",
    "\n",
    "            # Get only jobs from 8 may to 11 may\n",
    "            jobs = list(client.QueryItems(jobs_link,\n",
    "                                                {\n",
    "                                                    'query': 'SELECT * FROM root job WHERE job.DateStart>@min_start',\n",
    "                                                    'parameters': [\n",
    "                                                        {'name': '@min_start', 'value': \"2020-05-08T02:30:52.635-07:00\"}\n",
    "                                                    ]\n",
    "                                                },\n",
    "                                                {'enableCrossPartitionQuery': True}))\n",
    "\n",
    "            pipeline_runs = list(client.ReadItems(pipeline_link, {'maxItemCount':1000}))\n",
    "            #jobs = list(client.ReadItems(jobs_link, {'maxItemCount':1000}))\n",
    "            helix_submissions = list(client.ReadItems(helix_submission_link, {'maxItemCount':1000}))\n",
    "            helix_workitems = list(client.ReadItems(helix_workitems_link, {'maxItemCount':1000}))\n",
    "\n",
    "            print('Found {0} helix submissions'.format(len(helix_submissions)))\n",
    "            print('Found {0} helix workitems'.format(len(helix_workitems)))\n",
    "\n",
    "        except errors.HTTPFailure as e:\n",
    "            print('Error. {0}'.format(e))\n",
    "\n",
    "        print()\n",
    "\n"
   ]
  },
  {
   "cell_type": "code",
   "execution_count": null,
   "metadata": {},
   "outputs": [],
   "source": []
  },
  {
   "cell_type": "code",
   "execution_count": null,
   "metadata": {},
   "outputs": [],
   "source": []
  }
 ],
 "metadata": {
  "language_info": {
   "codemirror_mode": {
    "name": "ipython",
    "version": 3
   },
   "file_extension": ".py",
   "mimetype": "text/x-python",
   "name": "python",
   "nbconvert_exporter": "python",
   "pygments_lexer": "ipython3",
   "version": "3.7.4-final"
  },
  "orig_nbformat": 2,
  "kernelspec": {
   "name": "python37464bitebfcecd967324db983f04c444e0d1fbd",
   "display_name": "Python 3.7.4 64-bit"
  }
 },
 "nbformat": 4,
 "nbformat_minor": 2
}